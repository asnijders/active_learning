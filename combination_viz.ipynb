{
 "cells": [
  {
   "cell_type": "code",
   "execution_count": 1,
   "id": "urban-tourist",
   "metadata": {},
   "outputs": [
    {
     "name": "stdout",
     "output_type": "stream",
     "text": [
      "Requirement already satisfied: plotly in /Library/Frameworks/Python.framework/Versions/3.7/lib/python3.7/site-packages (5.9.0)\n",
      "Requirement already satisfied: tenacity>=6.2.0 in /Library/Frameworks/Python.framework/Versions/3.7/lib/python3.7/site-packages (from plotly) (8.0.1)\n",
      "\u001b[33mWARNING: You are using pip version 21.3.1; however, version 22.1.2 is available.\n",
      "You should consider upgrading via the '/Library/Frameworks/Python.framework/Versions/3.7/bin/python3.7 -m pip install --upgrade pip' command.\u001b[0m\n"
     ]
    }
   ],
   "source": [
    "!pip install plotly"
   ]
  },
  {
   "cell_type": "code",
   "execution_count": null,
   "id": "biblical-dependence",
   "metadata": {},
   "outputs": [],
   "source": []
  },
  {
   "cell_type": "code",
   "execution_count": 1,
   "id": "abstract-germany",
   "metadata": {},
   "outputs": [
    {
     "ename": "NameError",
     "evalue": "name 'pd' is not defined",
     "output_type": "error",
     "traceback": [
      "\u001b[0;31m---------------------------------------------------------------------------\u001b[0m",
      "\u001b[0;31mNameError\u001b[0m                                 Traceback (most recent call last)",
      "\u001b[0;32m<ipython-input-1-4d0be8154707>\u001b[0m in \u001b[0;36m<module>\u001b[0;34m\u001b[0m\n\u001b[0;32m----> 1\u001b[0;31m \u001b[0mdf\u001b[0m \u001b[0;34m=\u001b[0m \u001b[0mpd\u001b[0m\u001b[0;34m.\u001b[0m\u001b[0mread_csv\u001b[0m\u001b[0;34m(\u001b[0m\u001b[0;34m'data_analysis/csv_files/all_seeds.csv'\u001b[0m\u001b[0;34m)\u001b[0m\u001b[0;34m\u001b[0m\u001b[0m\n\u001b[0m\u001b[1;32m      2\u001b[0m \u001b[0;34m\u001b[0m\u001b[0m\n\u001b[1;32m      3\u001b[0m \u001b[0mdf\u001b[0m\u001b[0;34m\u001b[0m\u001b[0m\n\u001b[1;32m      4\u001b[0m \u001b[0mdf\u001b[0m\u001b[0;34m[\u001b[0m\u001b[0;34m'summed_test_acc'\u001b[0m\u001b[0;34m]\u001b[0m \u001b[0;34m=\u001b[0m \u001b[0mdf\u001b[0m\u001b[0;34m[\u001b[0m\u001b[0;34m[\u001b[0m\u001b[0;34m'ANLI_test_acc_epoch'\u001b[0m\u001b[0;34m,\u001b[0m \u001b[0;34m'SNLI_test_acc_epoch'\u001b[0m\u001b[0;34m,\u001b[0m \u001b[0;34m'WANLI_test_acc_epoch'\u001b[0m\u001b[0;34m]\u001b[0m\u001b[0;34m]\u001b[0m\u001b[0;34m.\u001b[0m\u001b[0mmean\u001b[0m\u001b[0;34m(\u001b[0m\u001b[0maxis\u001b[0m\u001b[0;34m=\u001b[0m\u001b[0;36m1\u001b[0m\u001b[0;34m)\u001b[0m\u001b[0;34m\u001b[0m\u001b[0m\n\u001b[1;32m      5\u001b[0m \u001b[0mdf\u001b[0m \u001b[0;34m=\u001b[0m \u001b[0mdf\u001b[0m\u001b[0;34m.\u001b[0m\u001b[0mgroupby\u001b[0m\u001b[0;34m(\u001b[0m\u001b[0;34m'train_sets'\u001b[0m\u001b[0;34m)\u001b[0m\u001b[0;34m.\u001b[0m\u001b[0magg\u001b[0m\u001b[0;34m(\u001b[0m\u001b[0;34m[\u001b[0m\u001b[0mnp\u001b[0m\u001b[0;34m.\u001b[0m\u001b[0mstd\u001b[0m\u001b[0;34m,\u001b[0m \u001b[0mnp\u001b[0m\u001b[0;34m.\u001b[0m\u001b[0mmean\u001b[0m\u001b[0;34m]\u001b[0m\u001b[0;34m)\u001b[0m\u001b[0;34m\u001b[0m\u001b[0m\n",
      "\u001b[0;31mNameError\u001b[0m: name 'pd' is not defined"
     ]
    }
   ],
   "source": [
    "df = pd.read_csv('data_analysis/csv_files/all_seeds.csv')\n",
    "\n",
    "df\n",
    "df['summed_test_acc'] = df[['ANLI_test_acc_epoch', 'SNLI_test_acc_epoch', 'WANLI_test_acc_epoch']].mean(axis=1)\n",
    "df = df.groupby('train_sets').agg([np.std, np.mean])\n",
    "df['summed_test_acc']\n",
    "# df"
   ]
  },
  {
   "cell_type": "code",
   "execution_count": 749,
   "id": "growing-extreme",
   "metadata": {
    "scrolled": false
   },
   "outputs": [],
   "source": [
    "import plotly\n",
    "import pandas as pd\n",
    "import plotly.express as px\n",
    "import pandas as pd\n",
    "from scipy.special import softmax\n",
    "import numpy as np\n",
    "\n",
    "path = 'data_analysis/csv_files/all_seeds.csv'\n",
    "\n",
    "def generate_plot(filepath, test_column, plot_title, stds=None):\n",
    "\n",
    "    df = pd.read_csv(filepath)\n",
    "    df['summed_test_acc'] = df[['ANLI_test_acc_epoch', 'SNLI_test_acc_epoch', 'WANLI_test_acc_epoch']].mean(axis=1)\n",
    "    df = df.groupby('train_sets').agg([np.std, np.mean])\n",
    "\n",
    "    SNLI_fracs = []\n",
    "    ANLI_fracs = []\n",
    "    WANLI_fracs = []\n",
    "\n",
    "    test_array = []\n",
    "    stds = []\n",
    "\n",
    "    for i in range(len(df)):\n",
    "        row = df.iloc[i]\n",
    "\n",
    "        name = row.name.replace('\"', '').replace(\"]\", '').replace(\"[\", '').replace(',',' ').split(' ')\n",
    "        if float(name[0].split('_')[1]) == 0.33333:\n",
    "            continue\n",
    "        \n",
    "        else:\n",
    "            SNLI_fracs.append(float(name[0].split('_')[1]))\n",
    "            ANLI_fracs.append(float(name[1].split('_')[1]))\n",
    "            WANLI_fracs.append(float(name[2].split('_')[1]))\n",
    "\n",
    "            test_array.append(row[test_column]['mean'])\n",
    "            stds.append(row[test_column]['std'])\n",
    "\n",
    "    test_array =  [round(score, 5) for score in test_array]\n",
    "    test_sizes = [round((score**3), 3) for score in stds]\n",
    "    \n",
    "    test_sizes = [4 for val in test_sizes]\n",
    "    \n",
    "    print(' '.join(plot_title.split(' ')[1:]))\n",
    "    \n",
    "    df = pd.DataFrame({'SNLI':SNLI_fracs, \n",
    "                       'ANLI':ANLI_fracs, \n",
    "                       'WANLI':WANLI_fracs, \n",
    "                       '{}'.format(' '.join(plot_title.split(' ')[1:])):test_array, \n",
    "                       \"test_sizes\": test_sizes})\n",
    "    \n",
    "    fig = px.scatter_ternary(df, \n",
    "                             a=\"SNLI\", \n",
    "                             b=\"ANLI\", \n",
    "                             c=\"WANLI\", \n",
    "                             size=\"test_sizes\", \n",
    "                             color='{}'.format(' '.join(plot_title.split(' ')[1:])),\n",
    "                             range_color=[min(test_array),max(test_array)],\n",
    "                             opacity=1)\n",
    "\n",
    "    atickvals = ['0% ','25% ', '50% ', '75% ', '100% ']\n",
    "    btickvals = ['0%','25%', '50%', '75%', '100%']\n",
    "    ctickvals = [' 0%',' 25%', ' 50%', ' 75%', ' 100%']\n",
    "#     tickvals = [0.0, 0.25, 0.5, 0.75, 1.0]\n",
    "    ticksize = 10\n",
    "    titlesize = 20\n",
    "\n",
    "    fig.update_ternaries(aaxis_tickvals=[0, 0.25, 0.5, 0.75, 1.0])\n",
    "    fig.update_ternaries(aaxis_ticktext=atickvals)\n",
    "    fig.update_ternaries(aaxis_tickfont={'size':ticksize})\n",
    "    fig.update_ternaries(aaxis_title={'font':{'size':titlesize}})\n",
    "    fig.update_ternaries(aaxis_title={'text':''})\n",
    "    fig.update_ternaries(aaxis_tickangle=0)\n",
    "\n",
    "    fig.update_ternaries(baxis_tickvals=[0, 0.25, 0.5, 0.75, 1.0])\n",
    "    fig.update_ternaries(baxis_ticktext=btickvals)\n",
    "    fig.update_ternaries(baxis_tickfont={'size':ticksize})\n",
    "    fig.update_ternaries(baxis_title={'font':{'size':titlesize}})\n",
    "    fig.update_ternaries(baxis_title={'text':''})\n",
    "    fig.update_ternaries(baxis_tickangle=0)\n",
    "\n",
    "    fig.update_ternaries(caxis_tickvals=[0, 0.25, 0.5, 0.75, 1.0])\n",
    "    fig.update_ternaries(caxis_ticktext=ctickvals)\n",
    "    fig.update_ternaries(caxis_tickfont={'size':ticksize})\n",
    "    fig.update_ternaries(caxis_title={'font':{'size':titlesize}})\n",
    "    fig.update_ternaries(caxis_title={'text':''})\n",
    "    fig.update_ternaries(caxis_tickangle=0)\n",
    "\n",
    "    fig.update_layout(\n",
    "            autosize=True,\n",
    "            height=350,\n",
    "            width=350,\n",
    "            margin=dict(\n",
    "                l=5,\n",
    "                r=5,\n",
    "                b=5,\n",
    "                t=20,\n",
    "                pad=0\n",
    "            ),\n",
    ")\n",
    "    \n",
    "    fig.add_annotation(text=\"SNLI\",\n",
    "                  xref=\"paper\", yref=\"paper\",\n",
    "                  x=0.1, y=0.6, showarrow=False,\n",
    "                      font=dict(\n",
    "            family=\"Open Sans\",\n",
    "            size=18\n",
    "            ))\n",
    "    \n",
    "    fig.add_annotation(text=\"ANLI\",\n",
    "                  xref=\"paper\", yref=\"paper\",\n",
    "                  x=0.5, y=-0.20, showarrow=False,\n",
    "                      font=dict(\n",
    "            family=\"Open Sans\",\n",
    "            size=18\n",
    "            ))\n",
    "    \n",
    "    DTICK = round((max(test_array) - min(test_array))/5, 2)\n",
    "    \n",
    "    fig.add_annotation(text=\"WANLI\",\n",
    "                  xref=\"paper\", yref=\"paper\",\n",
    "                  x=0.9, y=0.6, showarrow=False,\n",
    "                      font=dict(\n",
    "            family=\"Open Sans\",\n",
    "            size=18\n",
    "            ))\n",
    "    \n",
    "    fig.update_layout(coloraxis=dict(colorbar=dict(orientation='h', \n",
    "                                                   thickness=20, \n",
    "                                                   x=0.48, \n",
    "                                                   y=-0.5, \n",
    "                                                   len=0.9, \n",
    "                                                   tick0 =round(min(test_array),2),  \n",
    "                                                   dtick=DTICK,\n",
    "                                                   ticks=\"outside\")))#, tick0=0, dtick=0.1)))\n",
    "    import plotly.graph_objects as go\n",
    "    fig.add_trace(\n",
    "    go.Scatterternary(a=[0.5, 0],\n",
    "                      b=[0.5, 0.5],\n",
    "                      mode='lines',\n",
    "                      marker=dict(color='red'),\n",
    "                      line=dict(width=2),\n",
    "                      showlegend=False)\n",
    ")\n",
    "    fig.add_trace(\n",
    "    go.Scatterternary(\n",
    "                      b=[0, 0.5],\n",
    "                      c=[0, 0],\n",
    "                      mode='lines',\n",
    "                      marker=dict(color='red'),\n",
    "                      line=dict(width=6),\n",
    "                      showlegend=False)\n",
    ")\n",
    "#     fig.add_trace(\n",
    "#     go.Scatterternary(\n",
    "#                       b=[0.75, 0.25],\n",
    "#                       c=[0, 0.5,],\n",
    "#                       mode='lines',\n",
    "#                       marker=dict(color='red'),\n",
    "#                       line=dict(width=2),\n",
    "#                       showlegend=False)\n",
    "# )\n",
    "\n",
    "    #garbage graph\n",
    "    fig2 = px.scatter(x=[0, 1, 2, 3, 4], y=[0, 1, 4, 9, 16])\n",
    "    fig2.write_image('{}.pdf'.format(plot_title))\n",
    "    plotly.io.write_image(fig, 'data_analysis/images/combinations/{}_2.pdf'.format(plot_title), format='pdf')\n",
    "\n",
    "    fig.show()"
   ]
  },
  {
   "cell_type": "code",
   "execution_count": 750,
   "id": "broad-monaco",
   "metadata": {
    "scrolled": false
   },
   "outputs": [
    {
     "name": "stdout",
     "output_type": "stream",
     "text": [
      "Test Acc.\n"
     ]
    },
    {
     "data": {
      "application/vnd.plotly.v1+json": {
       "config": {
        "plotlyServerURL": "https://plot.ly"
       },
       "data": [
        {
         "a": [
          0,
          0,
          0,
          0,
          0,
          0.25,
          0.25,
          0.25,
          0.25,
          0.5,
          0.5,
          0.5,
          0.75,
          0.75,
          1
         ],
         "b": [
          0,
          0.25,
          0.5,
          0.75,
          1,
          0,
          0.25,
          0.5,
          0.75,
          0,
          0.25,
          0.5,
          0,
          0.25,
          0
         ],
         "c": [
          1,
          0.75,
          0.5,
          0.25,
          0,
          0.75,
          0.5,
          0.25,
          0,
          0.5,
          0.25,
          0,
          0.25,
          0,
          0
         ],
         "hovertemplate": "SNLI=%{a}<br>ANLI=%{b}<br>WANLI=%{c}<br>test_sizes=%{marker.size}<br>Test Acc.=%{marker.color}<extra></extra>",
         "legendgroup": "",
         "marker": {
          "color": [
           0.70488,
           0.74527,
           0.74686,
           0.74042,
           0.77459,
           0.69254,
           0.74536,
           0.73149,
           0.7823,
           0.69042,
           0.7446,
           0.80228,
           0.6971,
           0.79188,
           0.70657
          ],
          "coloraxis": "coloraxis",
          "opacity": 1,
          "size": [
           4,
           4,
           4,
           4,
           4,
           4,
           4,
           4,
           4,
           4,
           4,
           4,
           4,
           4,
           4
          ],
          "sizemode": "area",
          "sizeref": 0.01,
          "symbol": "circle"
         },
         "mode": "markers",
         "name": "",
         "showlegend": false,
         "subplot": "ternary",
         "type": "scatterternary"
        },
        {
         "a": [
          0.5,
          0
         ],
         "b": [
          0.5,
          0.5
         ],
         "line": {
          "width": 2
         },
         "marker": {
          "color": "red"
         },
         "mode": "lines",
         "showlegend": false,
         "type": "scatterternary"
        },
        {
         "b": [
          0,
          0.5
         ],
         "c": [
          0,
          0
         ],
         "line": {
          "width": 6
         },
         "marker": {
          "color": "red"
         },
         "mode": "lines",
         "showlegend": false,
         "type": "scatterternary"
        }
       ],
       "layout": {
        "annotations": [
         {
          "font": {
           "family": "Open Sans",
           "size": 18
          },
          "showarrow": false,
          "text": "SNLI",
          "x": 0.1,
          "xref": "paper",
          "y": 0.6,
          "yref": "paper"
         },
         {
          "font": {
           "family": "Open Sans",
           "size": 18
          },
          "showarrow": false,
          "text": "ANLI",
          "x": 0.5,
          "xref": "paper",
          "y": -0.2,
          "yref": "paper"
         },
         {
          "font": {
           "family": "Open Sans",
           "size": 18
          },
          "showarrow": false,
          "text": "WANLI",
          "x": 0.9,
          "xref": "paper",
          "y": 0.6,
          "yref": "paper"
         }
        ],
        "autosize": true,
        "coloraxis": {
         "cmax": 0.80228,
         "cmin": 0.69042,
         "colorbar": {
          "dtick": 0.02,
          "len": 0.9,
          "orientation": "h",
          "thickness": 20,
          "tick0": 0.69,
          "ticks": "outside",
          "title": {
           "text": "Test Acc."
          },
          "x": 0.48,
          "y": -0.5
         },
         "colorscale": [
          [
           0,
           "#0d0887"
          ],
          [
           0.1111111111111111,
           "#46039f"
          ],
          [
           0.2222222222222222,
           "#7201a8"
          ],
          [
           0.3333333333333333,
           "#9c179e"
          ],
          [
           0.4444444444444444,
           "#bd3786"
          ],
          [
           0.5555555555555556,
           "#d8576b"
          ],
          [
           0.6666666666666666,
           "#ed7953"
          ],
          [
           0.7777777777777778,
           "#fb9f3a"
          ],
          [
           0.8888888888888888,
           "#fdca26"
          ],
          [
           1,
           "#f0f921"
          ]
         ]
        },
        "height": 350,
        "legend": {
         "itemsizing": "constant",
         "tracegroupgap": 0
        },
        "margin": {
         "b": 5,
         "l": 5,
         "pad": 0,
         "r": 5,
         "t": 20
        },
        "template": {
         "data": {
          "bar": [
           {
            "error_x": {
             "color": "#2a3f5f"
            },
            "error_y": {
             "color": "#2a3f5f"
            },
            "marker": {
             "line": {
              "color": "#E5ECF6",
              "width": 0.5
             },
             "pattern": {
              "fillmode": "overlay",
              "size": 10,
              "solidity": 0.2
             }
            },
            "type": "bar"
           }
          ],
          "barpolar": [
           {
            "marker": {
             "line": {
              "color": "#E5ECF6",
              "width": 0.5
             },
             "pattern": {
              "fillmode": "overlay",
              "size": 10,
              "solidity": 0.2
             }
            },
            "type": "barpolar"
           }
          ],
          "carpet": [
           {
            "aaxis": {
             "endlinecolor": "#2a3f5f",
             "gridcolor": "white",
             "linecolor": "white",
             "minorgridcolor": "white",
             "startlinecolor": "#2a3f5f"
            },
            "baxis": {
             "endlinecolor": "#2a3f5f",
             "gridcolor": "white",
             "linecolor": "white",
             "minorgridcolor": "white",
             "startlinecolor": "#2a3f5f"
            },
            "type": "carpet"
           }
          ],
          "choropleth": [
           {
            "colorbar": {
             "outlinewidth": 0,
             "ticks": ""
            },
            "type": "choropleth"
           }
          ],
          "contour": [
           {
            "colorbar": {
             "outlinewidth": 0,
             "ticks": ""
            },
            "colorscale": [
             [
              0,
              "#0d0887"
             ],
             [
              0.1111111111111111,
              "#46039f"
             ],
             [
              0.2222222222222222,
              "#7201a8"
             ],
             [
              0.3333333333333333,
              "#9c179e"
             ],
             [
              0.4444444444444444,
              "#bd3786"
             ],
             [
              0.5555555555555556,
              "#d8576b"
             ],
             [
              0.6666666666666666,
              "#ed7953"
             ],
             [
              0.7777777777777778,
              "#fb9f3a"
             ],
             [
              0.8888888888888888,
              "#fdca26"
             ],
             [
              1,
              "#f0f921"
             ]
            ],
            "type": "contour"
           }
          ],
          "contourcarpet": [
           {
            "colorbar": {
             "outlinewidth": 0,
             "ticks": ""
            },
            "type": "contourcarpet"
           }
          ],
          "heatmap": [
           {
            "colorbar": {
             "outlinewidth": 0,
             "ticks": ""
            },
            "colorscale": [
             [
              0,
              "#0d0887"
             ],
             [
              0.1111111111111111,
              "#46039f"
             ],
             [
              0.2222222222222222,
              "#7201a8"
             ],
             [
              0.3333333333333333,
              "#9c179e"
             ],
             [
              0.4444444444444444,
              "#bd3786"
             ],
             [
              0.5555555555555556,
              "#d8576b"
             ],
             [
              0.6666666666666666,
              "#ed7953"
             ],
             [
              0.7777777777777778,
              "#fb9f3a"
             ],
             [
              0.8888888888888888,
              "#fdca26"
             ],
             [
              1,
              "#f0f921"
             ]
            ],
            "type": "heatmap"
           }
          ],
          "heatmapgl": [
           {
            "colorbar": {
             "outlinewidth": 0,
             "ticks": ""
            },
            "colorscale": [
             [
              0,
              "#0d0887"
             ],
             [
              0.1111111111111111,
              "#46039f"
             ],
             [
              0.2222222222222222,
              "#7201a8"
             ],
             [
              0.3333333333333333,
              "#9c179e"
             ],
             [
              0.4444444444444444,
              "#bd3786"
             ],
             [
              0.5555555555555556,
              "#d8576b"
             ],
             [
              0.6666666666666666,
              "#ed7953"
             ],
             [
              0.7777777777777778,
              "#fb9f3a"
             ],
             [
              0.8888888888888888,
              "#fdca26"
             ],
             [
              1,
              "#f0f921"
             ]
            ],
            "type": "heatmapgl"
           }
          ],
          "histogram": [
           {
            "marker": {
             "pattern": {
              "fillmode": "overlay",
              "size": 10,
              "solidity": 0.2
             }
            },
            "type": "histogram"
           }
          ],
          "histogram2d": [
           {
            "colorbar": {
             "outlinewidth": 0,
             "ticks": ""
            },
            "colorscale": [
             [
              0,
              "#0d0887"
             ],
             [
              0.1111111111111111,
              "#46039f"
             ],
             [
              0.2222222222222222,
              "#7201a8"
             ],
             [
              0.3333333333333333,
              "#9c179e"
             ],
             [
              0.4444444444444444,
              "#bd3786"
             ],
             [
              0.5555555555555556,
              "#d8576b"
             ],
             [
              0.6666666666666666,
              "#ed7953"
             ],
             [
              0.7777777777777778,
              "#fb9f3a"
             ],
             [
              0.8888888888888888,
              "#fdca26"
             ],
             [
              1,
              "#f0f921"
             ]
            ],
            "type": "histogram2d"
           }
          ],
          "histogram2dcontour": [
           {
            "colorbar": {
             "outlinewidth": 0,
             "ticks": ""
            },
            "colorscale": [
             [
              0,
              "#0d0887"
             ],
             [
              0.1111111111111111,
              "#46039f"
             ],
             [
              0.2222222222222222,
              "#7201a8"
             ],
             [
              0.3333333333333333,
              "#9c179e"
             ],
             [
              0.4444444444444444,
              "#bd3786"
             ],
             [
              0.5555555555555556,
              "#d8576b"
             ],
             [
              0.6666666666666666,
              "#ed7953"
             ],
             [
              0.7777777777777778,
              "#fb9f3a"
             ],
             [
              0.8888888888888888,
              "#fdca26"
             ],
             [
              1,
              "#f0f921"
             ]
            ],
            "type": "histogram2dcontour"
           }
          ],
          "mesh3d": [
           {
            "colorbar": {
             "outlinewidth": 0,
             "ticks": ""
            },
            "type": "mesh3d"
           }
          ],
          "parcoords": [
           {
            "line": {
             "colorbar": {
              "outlinewidth": 0,
              "ticks": ""
             }
            },
            "type": "parcoords"
           }
          ],
          "pie": [
           {
            "automargin": true,
            "type": "pie"
           }
          ],
          "scatter": [
           {
            "fillpattern": {
             "fillmode": "overlay",
             "size": 10,
             "solidity": 0.2
            },
            "type": "scatter"
           }
          ],
          "scatter3d": [
           {
            "line": {
             "colorbar": {
              "outlinewidth": 0,
              "ticks": ""
             }
            },
            "marker": {
             "colorbar": {
              "outlinewidth": 0,
              "ticks": ""
             }
            },
            "type": "scatter3d"
           }
          ],
          "scattercarpet": [
           {
            "marker": {
             "colorbar": {
              "outlinewidth": 0,
              "ticks": ""
             }
            },
            "type": "scattercarpet"
           }
          ],
          "scattergeo": [
           {
            "marker": {
             "colorbar": {
              "outlinewidth": 0,
              "ticks": ""
             }
            },
            "type": "scattergeo"
           }
          ],
          "scattergl": [
           {
            "marker": {
             "colorbar": {
              "outlinewidth": 0,
              "ticks": ""
             }
            },
            "type": "scattergl"
           }
          ],
          "scattermapbox": [
           {
            "marker": {
             "colorbar": {
              "outlinewidth": 0,
              "ticks": ""
             }
            },
            "type": "scattermapbox"
           }
          ],
          "scatterpolar": [
           {
            "marker": {
             "colorbar": {
              "outlinewidth": 0,
              "ticks": ""
             }
            },
            "type": "scatterpolar"
           }
          ],
          "scatterpolargl": [
           {
            "marker": {
             "colorbar": {
              "outlinewidth": 0,
              "ticks": ""
             }
            },
            "type": "scatterpolargl"
           }
          ],
          "scatterternary": [
           {
            "marker": {
             "colorbar": {
              "outlinewidth": 0,
              "ticks": ""
             }
            },
            "type": "scatterternary"
           }
          ],
          "surface": [
           {
            "colorbar": {
             "outlinewidth": 0,
             "ticks": ""
            },
            "colorscale": [
             [
              0,
              "#0d0887"
             ],
             [
              0.1111111111111111,
              "#46039f"
             ],
             [
              0.2222222222222222,
              "#7201a8"
             ],
             [
              0.3333333333333333,
              "#9c179e"
             ],
             [
              0.4444444444444444,
              "#bd3786"
             ],
             [
              0.5555555555555556,
              "#d8576b"
             ],
             [
              0.6666666666666666,
              "#ed7953"
             ],
             [
              0.7777777777777778,
              "#fb9f3a"
             ],
             [
              0.8888888888888888,
              "#fdca26"
             ],
             [
              1,
              "#f0f921"
             ]
            ],
            "type": "surface"
           }
          ],
          "table": [
           {
            "cells": {
             "fill": {
              "color": "#EBF0F8"
             },
             "line": {
              "color": "white"
             }
            },
            "header": {
             "fill": {
              "color": "#C8D4E3"
             },
             "line": {
              "color": "white"
             }
            },
            "type": "table"
           }
          ]
         },
         "layout": {
          "annotationdefaults": {
           "arrowcolor": "#2a3f5f",
           "arrowhead": 0,
           "arrowwidth": 1
          },
          "autotypenumbers": "strict",
          "coloraxis": {
           "colorbar": {
            "outlinewidth": 0,
            "ticks": ""
           }
          },
          "colorscale": {
           "diverging": [
            [
             0,
             "#8e0152"
            ],
            [
             0.1,
             "#c51b7d"
            ],
            [
             0.2,
             "#de77ae"
            ],
            [
             0.3,
             "#f1b6da"
            ],
            [
             0.4,
             "#fde0ef"
            ],
            [
             0.5,
             "#f7f7f7"
            ],
            [
             0.6,
             "#e6f5d0"
            ],
            [
             0.7,
             "#b8e186"
            ],
            [
             0.8,
             "#7fbc41"
            ],
            [
             0.9,
             "#4d9221"
            ],
            [
             1,
             "#276419"
            ]
           ],
           "sequential": [
            [
             0,
             "#0d0887"
            ],
            [
             0.1111111111111111,
             "#46039f"
            ],
            [
             0.2222222222222222,
             "#7201a8"
            ],
            [
             0.3333333333333333,
             "#9c179e"
            ],
            [
             0.4444444444444444,
             "#bd3786"
            ],
            [
             0.5555555555555556,
             "#d8576b"
            ],
            [
             0.6666666666666666,
             "#ed7953"
            ],
            [
             0.7777777777777778,
             "#fb9f3a"
            ],
            [
             0.8888888888888888,
             "#fdca26"
            ],
            [
             1,
             "#f0f921"
            ]
           ],
           "sequentialminus": [
            [
             0,
             "#0d0887"
            ],
            [
             0.1111111111111111,
             "#46039f"
            ],
            [
             0.2222222222222222,
             "#7201a8"
            ],
            [
             0.3333333333333333,
             "#9c179e"
            ],
            [
             0.4444444444444444,
             "#bd3786"
            ],
            [
             0.5555555555555556,
             "#d8576b"
            ],
            [
             0.6666666666666666,
             "#ed7953"
            ],
            [
             0.7777777777777778,
             "#fb9f3a"
            ],
            [
             0.8888888888888888,
             "#fdca26"
            ],
            [
             1,
             "#f0f921"
            ]
           ]
          },
          "colorway": [
           "#636efa",
           "#EF553B",
           "#00cc96",
           "#ab63fa",
           "#FFA15A",
           "#19d3f3",
           "#FF6692",
           "#B6E880",
           "#FF97FF",
           "#FECB52"
          ],
          "font": {
           "color": "#2a3f5f"
          },
          "geo": {
           "bgcolor": "white",
           "lakecolor": "white",
           "landcolor": "#E5ECF6",
           "showlakes": true,
           "showland": true,
           "subunitcolor": "white"
          },
          "hoverlabel": {
           "align": "left"
          },
          "hovermode": "closest",
          "mapbox": {
           "style": "light"
          },
          "paper_bgcolor": "white",
          "plot_bgcolor": "#E5ECF6",
          "polar": {
           "angularaxis": {
            "gridcolor": "white",
            "linecolor": "white",
            "ticks": ""
           },
           "bgcolor": "#E5ECF6",
           "radialaxis": {
            "gridcolor": "white",
            "linecolor": "white",
            "ticks": ""
           }
          },
          "scene": {
           "xaxis": {
            "backgroundcolor": "#E5ECF6",
            "gridcolor": "white",
            "gridwidth": 2,
            "linecolor": "white",
            "showbackground": true,
            "ticks": "",
            "zerolinecolor": "white"
           },
           "yaxis": {
            "backgroundcolor": "#E5ECF6",
            "gridcolor": "white",
            "gridwidth": 2,
            "linecolor": "white",
            "showbackground": true,
            "ticks": "",
            "zerolinecolor": "white"
           },
           "zaxis": {
            "backgroundcolor": "#E5ECF6",
            "gridcolor": "white",
            "gridwidth": 2,
            "linecolor": "white",
            "showbackground": true,
            "ticks": "",
            "zerolinecolor": "white"
           }
          },
          "shapedefaults": {
           "line": {
            "color": "#2a3f5f"
           }
          },
          "ternary": {
           "aaxis": {
            "gridcolor": "white",
            "linecolor": "white",
            "ticks": ""
           },
           "baxis": {
            "gridcolor": "white",
            "linecolor": "white",
            "ticks": ""
           },
           "bgcolor": "#E5ECF6",
           "caxis": {
            "gridcolor": "white",
            "linecolor": "white",
            "ticks": ""
           }
          },
          "title": {
           "x": 0.05
          },
          "xaxis": {
           "automargin": true,
           "gridcolor": "white",
           "linecolor": "white",
           "ticks": "",
           "title": {
            "standoff": 15
           },
           "zerolinecolor": "white",
           "zerolinewidth": 2
          },
          "yaxis": {
           "automargin": true,
           "gridcolor": "white",
           "linecolor": "white",
           "ticks": "",
           "title": {
            "standoff": 15
           },
           "zerolinecolor": "white",
           "zerolinewidth": 2
          }
         }
        },
        "ternary": {
         "aaxis": {
          "tickangle": 0,
          "tickfont": {
           "size": 10
          },
          "ticktext": [
           "0% ",
           "25% ",
           "50% ",
           "75% ",
           "100% "
          ],
          "tickvals": [
           0,
           0.25,
           0.5,
           0.75,
           1
          ],
          "title": {
           "font": {
            "size": 20
           },
           "text": ""
          }
         },
         "baxis": {
          "tickangle": 0,
          "tickfont": {
           "size": 10
          },
          "ticktext": [
           "0%",
           "25%",
           "50%",
           "75%",
           "100%"
          ],
          "tickvals": [
           0,
           0.25,
           0.5,
           0.75,
           1
          ],
          "title": {
           "font": {
            "size": 20
           },
           "text": ""
          }
         },
         "caxis": {
          "tickangle": 0,
          "tickfont": {
           "size": 10
          },
          "ticktext": [
           " 0%",
           " 25%",
           " 50%",
           " 75%",
           " 100%"
          ],
          "tickvals": [
           0,
           0.25,
           0.5,
           0.75,
           1
          ],
          "title": {
           "font": {
            "size": 20
           },
           "text": ""
          }
         },
         "domain": {
          "x": [
           0,
           1
          ],
          "y": [
           0,
           1
          ]
         }
        },
        "width": 350
       }
      },
      "text/html": [
       "<div>                            <div id=\"0164c7a7-afa8-4407-a744-e137fa8e755d\" class=\"plotly-graph-div\" style=\"height:350px; width:350px;\"></div>            <script type=\"text/javascript\">                require([\"plotly\"], function(Plotly) {                    window.PLOTLYENV=window.PLOTLYENV || {};                                    if (document.getElementById(\"0164c7a7-afa8-4407-a744-e137fa8e755d\")) {                    Plotly.newPlot(                        \"0164c7a7-afa8-4407-a744-e137fa8e755d\",                        [{\"a\":[0.0,0.0,0.0,0.0,0.0,0.25,0.25,0.25,0.25,0.5,0.5,0.5,0.75,0.75,1.0],\"b\":[0.0,0.25,0.5,0.75,1.0,0.0,0.25,0.5,0.75,0.0,0.25,0.5,0.0,0.25,0.0],\"c\":[1.0,0.75,0.5,0.25,0.0,0.75,0.5,0.25,0.0,0.5,0.25,0.0,0.25,0.0,0.0],\"hovertemplate\":\"SNLI=%{a}<br>ANLI=%{b}<br>WANLI=%{c}<br>test_sizes=%{marker.size}<br>Test Acc.=%{marker.color}<extra></extra>\",\"legendgroup\":\"\",\"marker\":{\"color\":[0.70488,0.74527,0.74686,0.74042,0.77459,0.69254,0.74536,0.73149,0.7823,0.69042,0.7446,0.80228,0.6971,0.79188,0.70657],\"coloraxis\":\"coloraxis\",\"opacity\":1,\"size\":[4,4,4,4,4,4,4,4,4,4,4,4,4,4,4],\"sizemode\":\"area\",\"sizeref\":0.01,\"symbol\":\"circle\"},\"mode\":\"markers\",\"name\":\"\",\"showlegend\":false,\"subplot\":\"ternary\",\"type\":\"scatterternary\"},{\"a\":[0.5,0],\"b\":[0.5,0.5],\"line\":{\"width\":2},\"marker\":{\"color\":\"red\"},\"mode\":\"lines\",\"showlegend\":false,\"type\":\"scatterternary\"},{\"b\":[0,0.5],\"c\":[0,0],\"line\":{\"width\":6},\"marker\":{\"color\":\"red\"},\"mode\":\"lines\",\"showlegend\":false,\"type\":\"scatterternary\"}],                        {\"template\":{\"data\":{\"histogram2dcontour\":[{\"type\":\"histogram2dcontour\",\"colorbar\":{\"outlinewidth\":0,\"ticks\":\"\"},\"colorscale\":[[0.0,\"#0d0887\"],[0.1111111111111111,\"#46039f\"],[0.2222222222222222,\"#7201a8\"],[0.3333333333333333,\"#9c179e\"],[0.4444444444444444,\"#bd3786\"],[0.5555555555555556,\"#d8576b\"],[0.6666666666666666,\"#ed7953\"],[0.7777777777777778,\"#fb9f3a\"],[0.8888888888888888,\"#fdca26\"],[1.0,\"#f0f921\"]]}],\"choropleth\":[{\"type\":\"choropleth\",\"colorbar\":{\"outlinewidth\":0,\"ticks\":\"\"}}],\"histogram2d\":[{\"type\":\"histogram2d\",\"colorbar\":{\"outlinewidth\":0,\"ticks\":\"\"},\"colorscale\":[[0.0,\"#0d0887\"],[0.1111111111111111,\"#46039f\"],[0.2222222222222222,\"#7201a8\"],[0.3333333333333333,\"#9c179e\"],[0.4444444444444444,\"#bd3786\"],[0.5555555555555556,\"#d8576b\"],[0.6666666666666666,\"#ed7953\"],[0.7777777777777778,\"#fb9f3a\"],[0.8888888888888888,\"#fdca26\"],[1.0,\"#f0f921\"]]}],\"heatmap\":[{\"type\":\"heatmap\",\"colorbar\":{\"outlinewidth\":0,\"ticks\":\"\"},\"colorscale\":[[0.0,\"#0d0887\"],[0.1111111111111111,\"#46039f\"],[0.2222222222222222,\"#7201a8\"],[0.3333333333333333,\"#9c179e\"],[0.4444444444444444,\"#bd3786\"],[0.5555555555555556,\"#d8576b\"],[0.6666666666666666,\"#ed7953\"],[0.7777777777777778,\"#fb9f3a\"],[0.8888888888888888,\"#fdca26\"],[1.0,\"#f0f921\"]]}],\"heatmapgl\":[{\"type\":\"heatmapgl\",\"colorbar\":{\"outlinewidth\":0,\"ticks\":\"\"},\"colorscale\":[[0.0,\"#0d0887\"],[0.1111111111111111,\"#46039f\"],[0.2222222222222222,\"#7201a8\"],[0.3333333333333333,\"#9c179e\"],[0.4444444444444444,\"#bd3786\"],[0.5555555555555556,\"#d8576b\"],[0.6666666666666666,\"#ed7953\"],[0.7777777777777778,\"#fb9f3a\"],[0.8888888888888888,\"#fdca26\"],[1.0,\"#f0f921\"]]}],\"contourcarpet\":[{\"type\":\"contourcarpet\",\"colorbar\":{\"outlinewidth\":0,\"ticks\":\"\"}}],\"contour\":[{\"type\":\"contour\",\"colorbar\":{\"outlinewidth\":0,\"ticks\":\"\"},\"colorscale\":[[0.0,\"#0d0887\"],[0.1111111111111111,\"#46039f\"],[0.2222222222222222,\"#7201a8\"],[0.3333333333333333,\"#9c179e\"],[0.4444444444444444,\"#bd3786\"],[0.5555555555555556,\"#d8576b\"],[0.6666666666666666,\"#ed7953\"],[0.7777777777777778,\"#fb9f3a\"],[0.8888888888888888,\"#fdca26\"],[1.0,\"#f0f921\"]]}],\"surface\":[{\"type\":\"surface\",\"colorbar\":{\"outlinewidth\":0,\"ticks\":\"\"},\"colorscale\":[[0.0,\"#0d0887\"],[0.1111111111111111,\"#46039f\"],[0.2222222222222222,\"#7201a8\"],[0.3333333333333333,\"#9c179e\"],[0.4444444444444444,\"#bd3786\"],[0.5555555555555556,\"#d8576b\"],[0.6666666666666666,\"#ed7953\"],[0.7777777777777778,\"#fb9f3a\"],[0.8888888888888888,\"#fdca26\"],[1.0,\"#f0f921\"]]}],\"mesh3d\":[{\"type\":\"mesh3d\",\"colorbar\":{\"outlinewidth\":0,\"ticks\":\"\"}}],\"scatter\":[{\"fillpattern\":{\"fillmode\":\"overlay\",\"size\":10,\"solidity\":0.2},\"type\":\"scatter\"}],\"parcoords\":[{\"type\":\"parcoords\",\"line\":{\"colorbar\":{\"outlinewidth\":0,\"ticks\":\"\"}}}],\"scatterpolargl\":[{\"type\":\"scatterpolargl\",\"marker\":{\"colorbar\":{\"outlinewidth\":0,\"ticks\":\"\"}}}],\"bar\":[{\"error_x\":{\"color\":\"#2a3f5f\"},\"error_y\":{\"color\":\"#2a3f5f\"},\"marker\":{\"line\":{\"color\":\"#E5ECF6\",\"width\":0.5},\"pattern\":{\"fillmode\":\"overlay\",\"size\":10,\"solidity\":0.2}},\"type\":\"bar\"}],\"scattergeo\":[{\"type\":\"scattergeo\",\"marker\":{\"colorbar\":{\"outlinewidth\":0,\"ticks\":\"\"}}}],\"scatterpolar\":[{\"type\":\"scatterpolar\",\"marker\":{\"colorbar\":{\"outlinewidth\":0,\"ticks\":\"\"}}}],\"histogram\":[{\"marker\":{\"pattern\":{\"fillmode\":\"overlay\",\"size\":10,\"solidity\":0.2}},\"type\":\"histogram\"}],\"scattergl\":[{\"type\":\"scattergl\",\"marker\":{\"colorbar\":{\"outlinewidth\":0,\"ticks\":\"\"}}}],\"scatter3d\":[{\"type\":\"scatter3d\",\"line\":{\"colorbar\":{\"outlinewidth\":0,\"ticks\":\"\"}},\"marker\":{\"colorbar\":{\"outlinewidth\":0,\"ticks\":\"\"}}}],\"scattermapbox\":[{\"type\":\"scattermapbox\",\"marker\":{\"colorbar\":{\"outlinewidth\":0,\"ticks\":\"\"}}}],\"scatterternary\":[{\"type\":\"scatterternary\",\"marker\":{\"colorbar\":{\"outlinewidth\":0,\"ticks\":\"\"}}}],\"scattercarpet\":[{\"type\":\"scattercarpet\",\"marker\":{\"colorbar\":{\"outlinewidth\":0,\"ticks\":\"\"}}}],\"carpet\":[{\"aaxis\":{\"endlinecolor\":\"#2a3f5f\",\"gridcolor\":\"white\",\"linecolor\":\"white\",\"minorgridcolor\":\"white\",\"startlinecolor\":\"#2a3f5f\"},\"baxis\":{\"endlinecolor\":\"#2a3f5f\",\"gridcolor\":\"white\",\"linecolor\":\"white\",\"minorgridcolor\":\"white\",\"startlinecolor\":\"#2a3f5f\"},\"type\":\"carpet\"}],\"table\":[{\"cells\":{\"fill\":{\"color\":\"#EBF0F8\"},\"line\":{\"color\":\"white\"}},\"header\":{\"fill\":{\"color\":\"#C8D4E3\"},\"line\":{\"color\":\"white\"}},\"type\":\"table\"}],\"barpolar\":[{\"marker\":{\"line\":{\"color\":\"#E5ECF6\",\"width\":0.5},\"pattern\":{\"fillmode\":\"overlay\",\"size\":10,\"solidity\":0.2}},\"type\":\"barpolar\"}],\"pie\":[{\"automargin\":true,\"type\":\"pie\"}]},\"layout\":{\"autotypenumbers\":\"strict\",\"colorway\":[\"#636efa\",\"#EF553B\",\"#00cc96\",\"#ab63fa\",\"#FFA15A\",\"#19d3f3\",\"#FF6692\",\"#B6E880\",\"#FF97FF\",\"#FECB52\"],\"font\":{\"color\":\"#2a3f5f\"},\"hovermode\":\"closest\",\"hoverlabel\":{\"align\":\"left\"},\"paper_bgcolor\":\"white\",\"plot_bgcolor\":\"#E5ECF6\",\"polar\":{\"bgcolor\":\"#E5ECF6\",\"angularaxis\":{\"gridcolor\":\"white\",\"linecolor\":\"white\",\"ticks\":\"\"},\"radialaxis\":{\"gridcolor\":\"white\",\"linecolor\":\"white\",\"ticks\":\"\"}},\"ternary\":{\"bgcolor\":\"#E5ECF6\",\"aaxis\":{\"gridcolor\":\"white\",\"linecolor\":\"white\",\"ticks\":\"\"},\"baxis\":{\"gridcolor\":\"white\",\"linecolor\":\"white\",\"ticks\":\"\"},\"caxis\":{\"gridcolor\":\"white\",\"linecolor\":\"white\",\"ticks\":\"\"}},\"coloraxis\":{\"colorbar\":{\"outlinewidth\":0,\"ticks\":\"\"}},\"colorscale\":{\"sequential\":[[0.0,\"#0d0887\"],[0.1111111111111111,\"#46039f\"],[0.2222222222222222,\"#7201a8\"],[0.3333333333333333,\"#9c179e\"],[0.4444444444444444,\"#bd3786\"],[0.5555555555555556,\"#d8576b\"],[0.6666666666666666,\"#ed7953\"],[0.7777777777777778,\"#fb9f3a\"],[0.8888888888888888,\"#fdca26\"],[1.0,\"#f0f921\"]],\"sequentialminus\":[[0.0,\"#0d0887\"],[0.1111111111111111,\"#46039f\"],[0.2222222222222222,\"#7201a8\"],[0.3333333333333333,\"#9c179e\"],[0.4444444444444444,\"#bd3786\"],[0.5555555555555556,\"#d8576b\"],[0.6666666666666666,\"#ed7953\"],[0.7777777777777778,\"#fb9f3a\"],[0.8888888888888888,\"#fdca26\"],[1.0,\"#f0f921\"]],\"diverging\":[[0,\"#8e0152\"],[0.1,\"#c51b7d\"],[0.2,\"#de77ae\"],[0.3,\"#f1b6da\"],[0.4,\"#fde0ef\"],[0.5,\"#f7f7f7\"],[0.6,\"#e6f5d0\"],[0.7,\"#b8e186\"],[0.8,\"#7fbc41\"],[0.9,\"#4d9221\"],[1,\"#276419\"]]},\"xaxis\":{\"gridcolor\":\"white\",\"linecolor\":\"white\",\"ticks\":\"\",\"title\":{\"standoff\":15},\"zerolinecolor\":\"white\",\"automargin\":true,\"zerolinewidth\":2},\"yaxis\":{\"gridcolor\":\"white\",\"linecolor\":\"white\",\"ticks\":\"\",\"title\":{\"standoff\":15},\"zerolinecolor\":\"white\",\"automargin\":true,\"zerolinewidth\":2},\"scene\":{\"xaxis\":{\"backgroundcolor\":\"#E5ECF6\",\"gridcolor\":\"white\",\"linecolor\":\"white\",\"showbackground\":true,\"ticks\":\"\",\"zerolinecolor\":\"white\",\"gridwidth\":2},\"yaxis\":{\"backgroundcolor\":\"#E5ECF6\",\"gridcolor\":\"white\",\"linecolor\":\"white\",\"showbackground\":true,\"ticks\":\"\",\"zerolinecolor\":\"white\",\"gridwidth\":2},\"zaxis\":{\"backgroundcolor\":\"#E5ECF6\",\"gridcolor\":\"white\",\"linecolor\":\"white\",\"showbackground\":true,\"ticks\":\"\",\"zerolinecolor\":\"white\",\"gridwidth\":2}},\"shapedefaults\":{\"line\":{\"color\":\"#2a3f5f\"}},\"annotationdefaults\":{\"arrowcolor\":\"#2a3f5f\",\"arrowhead\":0,\"arrowwidth\":1},\"geo\":{\"bgcolor\":\"white\",\"landcolor\":\"#E5ECF6\",\"subunitcolor\":\"white\",\"showland\":true,\"showlakes\":true,\"lakecolor\":\"white\"},\"title\":{\"x\":0.05},\"mapbox\":{\"style\":\"light\"}}},\"ternary\":{\"domain\":{\"x\":[0.0,1.0],\"y\":[0.0,1.0]},\"aaxis\":{\"title\":{\"text\":\"\",\"font\":{\"size\":20}},\"tickvals\":[0,0.25,0.5,0.75,1.0],\"ticktext\":[\"0% \",\"25% \",\"50% \",\"75% \",\"100% \"],\"tickfont\":{\"size\":10},\"tickangle\":0},\"baxis\":{\"title\":{\"text\":\"\",\"font\":{\"size\":20}},\"tickvals\":[0,0.25,0.5,0.75,1.0],\"ticktext\":[\"0%\",\"25%\",\"50%\",\"75%\",\"100%\"],\"tickfont\":{\"size\":10},\"tickangle\":0},\"caxis\":{\"title\":{\"text\":\"\",\"font\":{\"size\":20}},\"tickvals\":[0,0.25,0.5,0.75,1.0],\"ticktext\":[\" 0%\",\" 25%\",\" 50%\",\" 75%\",\" 100%\"],\"tickfont\":{\"size\":10},\"tickangle\":0}},\"coloraxis\":{\"colorbar\":{\"title\":{\"text\":\"Test Acc.\"},\"orientation\":\"h\",\"thickness\":20,\"x\":0.48,\"y\":-0.5,\"len\":0.9,\"tick0\":0.69,\"dtick\":0.02,\"ticks\":\"outside\"},\"colorscale\":[[0.0,\"#0d0887\"],[0.1111111111111111,\"#46039f\"],[0.2222222222222222,\"#7201a8\"],[0.3333333333333333,\"#9c179e\"],[0.4444444444444444,\"#bd3786\"],[0.5555555555555556,\"#d8576b\"],[0.6666666666666666,\"#ed7953\"],[0.7777777777777778,\"#fb9f3a\"],[0.8888888888888888,\"#fdca26\"],[1.0,\"#f0f921\"]],\"cmin\":0.69042,\"cmax\":0.80228},\"legend\":{\"tracegroupgap\":0,\"itemsizing\":\"constant\"},\"margin\":{\"t\":20,\"l\":5,\"r\":5,\"b\":5,\"pad\":0},\"autosize\":true,\"height\":350,\"width\":350,\"annotations\":[{\"font\":{\"family\":\"Open Sans\",\"size\":18},\"showarrow\":false,\"text\":\"SNLI\",\"x\":0.1,\"xref\":\"paper\",\"y\":0.6,\"yref\":\"paper\"},{\"font\":{\"family\":\"Open Sans\",\"size\":18},\"showarrow\":false,\"text\":\"ANLI\",\"x\":0.5,\"xref\":\"paper\",\"y\":-0.2,\"yref\":\"paper\"},{\"font\":{\"family\":\"Open Sans\",\"size\":18},\"showarrow\":false,\"text\":\"WANLI\",\"x\":0.9,\"xref\":\"paper\",\"y\":0.6,\"yref\":\"paper\"}]},                        {\"responsive\": true}                    ).then(function(){\n",
       "                            \n",
       "var gd = document.getElementById('0164c7a7-afa8-4407-a744-e137fa8e755d');\n",
       "var x = new MutationObserver(function (mutations, observer) {{\n",
       "        var display = window.getComputedStyle(gd).display;\n",
       "        if (!display || display === 'none') {{\n",
       "            console.log([gd, 'removed!']);\n",
       "            Plotly.purge(gd);\n",
       "            observer.disconnect();\n",
       "        }}\n",
       "}});\n",
       "\n",
       "// Listen for the removal of the full notebook cells\n",
       "var notebookContainer = gd.closest('#notebook-container');\n",
       "if (notebookContainer) {{\n",
       "    x.observe(notebookContainer, {childList: true});\n",
       "}}\n",
       "\n",
       "// Listen for the clearing of the current output cell\n",
       "var outputEl = gd.closest('.output');\n",
       "if (outputEl) {{\n",
       "    x.observe(outputEl, {childList: true});\n",
       "}}\n",
       "\n",
       "                        })                };                });            </script>        </div>"
      ]
     },
     "metadata": {},
     "output_type": "display_data"
    }
   ],
   "source": [
    "SIZE = 50\n",
    "# generate_plot(filepath=path, test_column='WANLI_test_acc_epoch', plot_title='WANLI Test Acc.')\n",
    "# generate_plot(filepath=path, test_column='ANLI_test_acc_epoch', plot_title='ANLI Test Acc.')\n",
    "# generate_plot(filepath=path, test_column='SNLI_test_acc_epoch', plot_title='SNLI Test Acc.')\n",
    "generate_plot(filepath=path, test_column='MNLI_test_acc_epoch', plot_title='MNLI Test Acc.')\n",
    "# generate_plot(filepath=path, test_column='summed_test_acc', plot_title='Agg. Test Acc.')"
   ]
  },
  {
   "cell_type": "code",
   "execution_count": 183,
   "id": "green-logistics",
   "metadata": {},
   "outputs": [
    {
     "ename": "NameError",
     "evalue": "name 'SNLI_fracs' is not defined",
     "output_type": "error",
     "traceback": [
      "\u001b[0;31m---------------------------------------------------------------------------\u001b[0m",
      "\u001b[0;31mNameError\u001b[0m                                 Traceback (most recent call last)",
      "\u001b[0;32m<ipython-input-183-1136ed68cc81>\u001b[0m in \u001b[0;36m<module>\u001b[0;34m\u001b[0m\n\u001b[1;32m      7\u001b[0m \u001b[0;31m# # See https://pycalphad.org/docs/latest/examples/TernaryExamples.html\u001b[0m\u001b[0;34m\u001b[0m\u001b[0;34m\u001b[0m\u001b[0m\n\u001b[1;32m      8\u001b[0m \u001b[0;31m# enthalpy = (Al - 0.01) * Cu * (Al - 0.52) * (Cu - 0.48) * (Y - 1)**2\u001b[0m\u001b[0;34m\u001b[0m\u001b[0;34m\u001b[0m\u001b[0m\n\u001b[0;32m----> 9\u001b[0;31m fig = ff.create_ternary_contour(np.array([SNLI_fracs, ANLI_fracs, WANLI_fracs]), np.array(MNLI_test),\n\u001b[0m\u001b[1;32m     10\u001b[0m                                 \u001b[0mpole_labels\u001b[0m\u001b[0;34m=\u001b[0m\u001b[0;34m[\u001b[0m\u001b[0;34m'SNLI'\u001b[0m\u001b[0;34m,\u001b[0m \u001b[0;34m'ANLI'\u001b[0m\u001b[0;34m,\u001b[0m \u001b[0;34m'WANLI'\u001b[0m\u001b[0;34m]\u001b[0m\u001b[0;34m,\u001b[0m \u001b[0mshowscale\u001b[0m\u001b[0;34m=\u001b[0m\u001b[0;32mTrue\u001b[0m\u001b[0;34m,\u001b[0m\u001b[0;34m\u001b[0m\u001b[0m\n\u001b[1;32m     11\u001b[0m                                 interp_mode='cartesian')\n",
      "\u001b[0;31mNameError\u001b[0m: name 'SNLI_fracs' is not defined"
     ]
    }
   ],
   "source": [
    "import plotly.figure_factory as ff\n",
    "import numpy as np\n",
    "# Al = np.array([0. , 0. , 0., 0., 1./3, 1./3, 1./3, 2./3, 2./3, 1.])\n",
    "# Cu = np.array([0., 1./3, 2./3, 1., 0., 1./3, 2./3, 0., 1./3, 0.])\n",
    "# Y = 1 - Al - Cu\n",
    "# # synthetic data for mixing enthalpy\n",
    "# # See https://pycalphad.org/docs/latest/examples/TernaryExamples.html\n",
    "# enthalpy = (Al - 0.01) * Cu * (Al - 0.52) * (Cu - 0.48) * (Y - 1)**2\n",
    "fig = ff.create_ternary_contour(np.array([SNLI_fracs, ANLI_fracs, WANLI_fracs]), np.array(MNLI_test),\n",
    "                                pole_labels=['SNLI', 'ANLI', 'WANLI'], showscale=True,\n",
    "                                interp_mode='cartesian')\n",
    "\n",
    "tickvals = ['','25%', '50%', '75%', '']\n",
    "ticksize = 10\n",
    "titlesize = 13\n",
    "\n",
    "fig.update_ternaries(aaxis_tickvals=[0, 0.25, 0.5, 0.75, 1.0])\n",
    "fig.update_ternaries(aaxis_ticktext=tickvals)\n",
    "fig.update_ternaries(aaxis_tickfont={'size':ticksize})\n",
    "fig.update_ternaries(aaxis_title={'font':{'size':titlesize}})\n",
    "fig.update_ternaries(aaxis_tickangle=25)\n",
    "\n",
    "fig.update_ternaries(baxis_tickvals=[0, 0.25, 0.5, 0.75, 1.0])\n",
    "fig.update_ternaries(baxis_ticktext=tickvals)\n",
    "fig.update_ternaries(baxis_tickfont={'size':ticksize})\n",
    "fig.update_ternaries(baxis_title={'font':{'size':titlesize}})\n",
    "fig.update_ternaries(baxis_tickangle=0)\n",
    "\n",
    "fig.update_ternaries(caxis_tickvals=[0, 0.25, 0.5, 0.75, 1.0])\n",
    "fig.update_ternaries(caxis_ticktext=tickvals)\n",
    "fig.update_ternaries(caxis_tickfont={'size':ticksize})\n",
    "fig.update_ternaries(caxis_title={'font':{'size':titlesize}})\n",
    "fig.update_ternaries(caxis_tickangle=-25)\n",
    "\n",
    "fig.show()"
   ]
  },
  {
   "cell_type": "code",
   "execution_count": null,
   "id": "naughty-typing",
   "metadata": {},
   "outputs": [],
   "source": [
    "import skimage\n",
    "print(skimage.__version__)"
   ]
  }
 ],
 "metadata": {
  "kernelspec": {
   "display_name": "Python 3",
   "language": "python",
   "name": "python3"
  },
  "language_info": {
   "codemirror_mode": {
    "name": "ipython",
    "version": 3
   },
   "file_extension": ".py",
   "mimetype": "text/x-python",
   "name": "python",
   "nbconvert_exporter": "python",
   "pygments_lexer": "ipython3",
   "version": "3.7.0"
  }
 },
 "nbformat": 4,
 "nbformat_minor": 5
}
