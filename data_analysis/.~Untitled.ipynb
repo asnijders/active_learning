{
 "cells": [
  {
   "cell_type": "code",
   "execution_count": 3,
   "id": "healthy-protocol",
   "metadata": {},
   "outputs": [
    {
     "name": "stdout",
     "output_type": "stream",
     "text": [
      "4\n",
      "3.7.0 (v3.7.0:1bf9cc5093, Jun 26 2018, 23:26:24) \n",
      "[Clang 6.0 (clang-600.0.57)]\n"
     ]
    }
   ],
   "source": [
    "import pickle\n",
    "print(pickle.HIGHEST_PROTOCOL)\n",
    "import sys\n",
    "print(sys.version)"
   ]
  },
  {
   "cell_type": "code",
   "execution_count": null,
   "id": "elementary-wichita",
   "metadata": {},
   "outputs": [],
   "source": [
    "path = \"/Users/ardsnijders/Documents/GitHub/Lisa/active_learning/results/ard_output_dir_results/datamaps/test/datamap_test/roberta-large/bald/42/confidences.pickle\"\n",
    "\n",
    "df2 = pd.read_pickle(path)"
   ]
  },
  {
   "cell_type": "code",
   "execution_count": 88,
   "id": "explicit-colleague",
   "metadata": {},
   "outputs": [],
   "source": [
    "import pandas as pd\n",
    "import numpy as np\n",
    "import random\n",
    "from pprint import pprint\n",
    "import sys"
   ]
  },
  {
   "cell_type": "code",
   "execution_count": 36,
   "id": "deadly-delaware",
   "metadata": {},
   "outputs": [],
   "source": [
    "sample_ids = []\n",
    "results = []\n",
    "with open(path, 'r') as f:\n",
    "    lines = f.readlines()\n",
    "    for line in lines:\n",
    "        line = line.replace(',',';',1)\n",
    "        sample_ids.append(line.split(';')[0])"
   ]
  },
  {
   "cell_type": "code",
   "execution_count": 117,
   "id": "chinese-innocent",
   "metadata": {},
   "outputs": [
    {
     "data": {
      "text/plain": [
       "array([[0.61468459, 0.056259  , 0.32905641],\n",
       "       [0.38493151, 0.20726966, 0.40779883],\n",
       "       [0.28602757, 0.45597168, 0.25800075]])"
      ]
     },
     "execution_count": 117,
     "metadata": {},
     "output_type": "execute_result"
    }
   ],
   "source": [
    "pred = np.random.dirichlet(np.ones(3),size=3)\n",
    "pred"
   ]
  },
  {
   "cell_type": "code",
   "execution_count": 145,
   "id": "japanese-choice",
   "metadata": {},
   "outputs": [],
   "source": [
    "num_epochs = 10\n",
    "results = []\n",
    "\n",
    "for sample_id in sample_ids:\n",
    "    result = []\n",
    "    for epoch in range(num_epochs):\n",
    "        random_prediction = np.random.dirichlet([0.5,5,20],size=1)[0].tolist()\n",
    "        random_label = random.randint(b=2, a=0)\n",
    "        result.append((random_prediction, random_label))\n",
    "    results.append(result)"
   ]
  },
  {
   "cell_type": "code",
   "execution_count": 146,
   "id": "bound-battery",
   "metadata": {},
   "outputs": [],
   "source": [
    "confidences_mean = []\n",
    "confidences_std = []\n",
    "\n",
    "for sample_id, result in zip(sample_ids, results):\n",
    "    confidences = []\n",
    "    for prediction in result:\n",
    "        output = prediction[0]\n",
    "        label = prediction[1]\n",
    "        gold_confidence = output[label]\n",
    "        confidences.append(gold_confidence)\n",
    "    \n",
    "    confidence_mean = np.mean(confidences)\n",
    "    confidence_std = np.std(confidences)\n",
    "    \n",
    "    confidences_mean.append(confidence_mean)\n",
    "    confidences_std.append(confidence_std)\n",
    "    \n",
    "    \n",
    "df = pd.DataFrame(zip(sample_ids, confidences_mean, confidences_std), columns=['id', 'mean_conf', 'conf_std'])"
   ]
  },
  {
   "cell_type": "code",
   "execution_count": 148,
   "id": "photographic-patient",
   "metadata": {},
   "outputs": [
    {
     "data": {
      "text/plain": [
       "<matplotlib.axes._subplots.AxesSubplot at 0x7f8a96164470>"
      ]
     },
     "execution_count": 148,
     "metadata": {},
     "output_type": "execute_result"
    },
    {
     "data": {
      "image/png": "[encoded data removed]",
      "text/plain": [
       "<Figure size 432x288 with 1 Axes>"
      ]
     },
     "metadata": {
      "needs_background": "light"
     },
     "output_type": "display_data"
    }
   ],
   "source": [
    "df.plot(x='conf_std', y='mean_conf', style='.', xlim=(0,0.5), ylim=(0,1))"
   ]
  },
  {
   "cell_type": "code",
   "execution_count": 162,
   "id": "deadly-bidding",
   "metadata": {},
   "outputs": [],
   "source": [
    "import os\n",
    "import pickle\n",
    "ex_dict = {'a':1, 'b':2}\n",
    "parent_dir = os.getcwd()\n",
    "filepath = parent_dir + '/example_2.pickle'\n",
    "with open(filepath, 'wb') as f:\n",
    "    pickle.dump(ex_dict, f)\n",
    "    \n",
    "#     f.close()"
   ]
  },
  {
   "cell_type": "code",
   "execution_count": 161,
   "id": "occasional-monte",
   "metadata": {},
   "outputs": [
    {
     "name": "stdout",
     "output_type": "stream",
     "text": [
      "/Users/ardsnijders/Documents/GitHub/Lisa/active_learning/data_analysis\n"
     ]
    }
   ],
   "source": [
    "import os\n",
    "print(os.getcwd())"
   ]
  },
  {
   "cell_type": "code",
   "execution_count": null,
   "id": "inclusive-catering",
   "metadata": {},
   "outputs": [],
   "source": []
  }
 ],
 "metadata": {
  "kernelspec": {
   "display_name": "Python 3",
   "language": "python",
   "name": "python3"
  },
  "language_info": {
   "codemirror_mode": {
    "name": "ipython",
    "version": 3
   },
   "file_extension": ".py",
   "mimetype": "text/x-python",
   "name": "python",
   "nbconvert_exporter": "python",
   "pygments_lexer": "ipython3",
   "version": "3.7.0"
  }
 },
 "nbformat": 4,
 "nbformat_minor": 5
}
